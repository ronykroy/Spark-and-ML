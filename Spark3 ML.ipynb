{
    "nbformat": 4, 
    "metadata": {
        "language_info": {
            "version": "3.5.2", 
            "nbconvert_exporter": "python", 
            "name": "python", 
            "pygments_lexer": "ipython3", 
            "mimetype": "text/x-python", 
            "codemirror_mode": {
                "version": 3, 
                "name": "ipython"
            }, 
            "file_extension": ".py"
        }, 
        "kernelspec": {
            "language": "python", 
            "name": "python3-spark21", 
            "display_name": "Python 3.5 (Experimental) with Spark 2.1"
        }
    }, 
    "cells": [
        {
            "execution_count": 2, 
            "metadata": {}, 
            "source": "!rm 'OnlineRetail.csv.gz' -f\n!wget https://raw.githubusercontent.com/rosswlewis/RecommendationPoT/master/OnlineRetail.csv.gz", 
            "outputs": [
                {
                    "name": "stdout", 
                    "output_type": "stream", 
                    "text": "--2018-01-22 03:16:32--  https://raw.githubusercontent.com/rosswlewis/RecommendationPoT/master/OnlineRetail.csv.gz\nResolving raw.githubusercontent.com (raw.githubusercontent.com)... 151.101.48.133\nConnecting to raw.githubusercontent.com (raw.githubusercontent.com)|151.101.48.133|:443... connected.\nHTTP request sent, awaiting response... 200 OK\nLength: 7483128 (7.1M) [application/octet-stream]\nSaving to: \u2018OnlineRetail.csv.gz\u2019\n\n100%[======================================>] 7,483,128   21.0MB/s   in 0.3s   \n\n2018-01-22 03:16:33 (21.0 MB/s) - \u2018OnlineRetail.csv.gz\u2019 saved [7483128/7483128]\n\n"
                }
            ], 
            "cell_type": "code"
        }, 
        {
            "execution_count": 4, 
            "metadata": {}, 
            "source": "loadRetailData = sc.textFile(\"OnlineRetail.csv.gz\")\n\nfor row in loadRetailData.take(5):\n    print (row)\n    \n#load data into RDD and view", 
            "outputs": [
                {
                    "name": "stdout", 
                    "output_type": "stream", 
                    "text": "InvoiceNo,StockCode,Description,Quantity,InvoiceDate,UnitPrice,CustomerID,Country\n536365,85123A,WHITE HANGING HEART T-LIGHT HOLDER,6,12/1/10 8:26,2.55,17850,United Kingdom\n536365,71053,WHITE METAL LANTERN,6,12/1/10 8:26,3.39,17850,United Kingdom\n536365,84406B,CREAM CUPID HEARTS COAT HANGER,8,12/1/10 8:26,2.75,17850,United Kingdom\n536365,84029G,KNITTED UNION FLAG HOT WATER BOTTLE,6,12/1/10 8:26,3.39,17850,United Kingdom\n"
                }
            ], 
            "cell_type": "code"
        }, 
        {
            "execution_count": 5, 
            "metadata": {}, 
            "source": "#Data shaping and preparing )-;\n\nheader = loadRetailData.first()\nloadRetailData = loadRetailData.filter(lambda line: line != header).map(lambda l: l.split(\",\"))\n#split each line that is not the header on the basis of the comma.. and store it back\nfor row in loadRetailData.take(5):\n    print (row)", 
            "outputs": [
                {
                    "name": "stdout", 
                    "output_type": "stream", 
                    "text": "['536365', '85123A', 'WHITE HANGING HEART T-LIGHT HOLDER', '6', '12/1/10 8:26', '2.55', '17850', 'United Kingdom']\n['536365', '71053', 'WHITE METAL LANTERN', '6', '12/1/10 8:26', '3.39', '17850', 'United Kingdom']\n['536365', '84406B', 'CREAM CUPID HEARTS COAT HANGER', '8', '12/1/10 8:26', '2.75', '17850', 'United Kingdom']\n['536365', '84029G', 'KNITTED UNION FLAG HOT WATER BOTTLE', '6', '12/1/10 8:26', '3.39', '17850', 'United Kingdom']\n['536365', '84029E', 'RED WOOLLY HOTTIE WHITE HEART.', '6', '12/1/10 8:26', '3.39', '17850', 'United Kingdom']\n"
                }
            ], 
            "cell_type": "code"
        }, 
        {
            "execution_count": 8, 
            "metadata": {}, 
            "source": "#further cleaning \n\n#Remove the rows that have incomplete data. \n#Keep only the rows that meet the following criteria:\n\n#The purchase quantity is greater than 0\n#The customer ID not equal to 0\n#The stock code is not blank after you remove non-numeric characters\n\nimport re\n\nloadRetailData = loadRetailData.filter(lambda l: int(l[3]) > 0\\\n                                and len(re.sub(\"\\D\", \"\", l[1])) != 0 \\\n                                and len(l[6]) != 0)\n\nprint (loadRetailData.take(2))\n\n", 
            "outputs": [
                {
                    "name": "stdout", 
                    "output_type": "stream", 
                    "text": "[['536365', '85123A', 'WHITE HANGING HEART T-LIGHT HOLDER', '6', '12/1/10 8:26', '2.55', '17850', 'United Kingdom'], ['536365', '71053', 'WHITE METAL LANTERN', '6', '12/1/10 8:26', '3.39', '17850', 'United Kingdom']]\n"
                }
            ], 
            "cell_type": "code"
        }, 
        {
            "execution_count": 9, 
            "metadata": {}, 
            "source": "from pyspark.sql import SQLContext, Row\nsqlContext = SQLContext(sc)\n# Create a  DF: Sql context...\n#Convert each line to a Row.\nloadRetailData = loadRetailData.map(lambda l: Row(inv=int(l[0]),\\\n                                    stockCode=int(re.sub(\"\\D\", \"\", l[1])),\\\n                                    description=l[2],\\\n                                    quant=int(l[3]),\\\n                                    invDate=l[4],\\\n                                    price=float(l[5]),\\\n                                    custId=int(l[6]),\\\n                                    country=l[7]))\n\n# the lambda: for each row.. map to the said column headings", 
            "outputs": [], 
            "cell_type": "code"
        }, 
        {
            "execution_count": 11, 
            "metadata": {}, 
            "source": "retailDf = sqlContext.createDataFrame(loadRetailData)\nprint (retailDf.printSchema())\n# Create DF and load data\n", 
            "outputs": [
                {
                    "name": "stdout", 
                    "output_type": "stream", 
                    "text": "root\n |-- country: string (nullable = true)\n |-- custId: long (nullable = true)\n |-- description: string (nullable = true)\n |-- inv: long (nullable = true)\n |-- invDate: string (nullable = true)\n |-- price: double (nullable = true)\n |-- quant: long (nullable = true)\n |-- stockCode: long (nullable = true)\n\nNone\n"
                }
            ], 
            "cell_type": "code"
        }, 
        {
            "execution_count": 12, 
            "metadata": {}, 
            "source": "retailDf.registerTempTable(\"retailPurchases\")\nsqlContext.sql(\"SELECT * FROM retailPurchases limit 2\").toPandas()\n#register the  DF for SQL operations through register temp table", 
            "outputs": [
                {
                    "execution_count": 12, 
                    "data": {
                        "text/plain": "          country  custId                         description     inv  \\\n0  United Kingdom   17850  WHITE HANGING HEART T-LIGHT HOLDER  536365   \n1  United Kingdom   17850                 WHITE METAL LANTERN  536365   \n\n        invDate  price  quant  stockCode  \n0  12/1/10 8:26   2.55      6      85123  \n1  12/1/10 8:26   3.39      6      71053  ", 
                        "text/html": "<div>\n<table border=\"1\" class=\"dataframe\">\n  <thead>\n    <tr style=\"text-align: right;\">\n      <th></th>\n      <th>country</th>\n      <th>custId</th>\n      <th>description</th>\n      <th>inv</th>\n      <th>invDate</th>\n      <th>price</th>\n      <th>quant</th>\n      <th>stockCode</th>\n    </tr>\n  </thead>\n  <tbody>\n    <tr>\n      <th>0</th>\n      <td>United Kingdom</td>\n      <td>17850</td>\n      <td>WHITE HANGING HEART T-LIGHT HOLDER</td>\n      <td>536365</td>\n      <td>12/1/10 8:26</td>\n      <td>2.55</td>\n      <td>6</td>\n      <td>85123</td>\n    </tr>\n    <tr>\n      <th>1</th>\n      <td>United Kingdom</td>\n      <td>17850</td>\n      <td>WHITE METAL LANTERN</td>\n      <td>536365</td>\n      <td>12/1/10 8:26</td>\n      <td>3.39</td>\n      <td>6</td>\n      <td>71053</td>\n    </tr>\n  </tbody>\n</table>\n</div>"
                    }, 
                    "metadata": {}, 
                    "output_type": "execute_result"
                }
            ], 
            "cell_type": "code"
        }, 
        {
            "execution_count": 13, 
            "metadata": {}, 
            "source": "query = \"\"\"\nSELECT \n    custId, stockCode, 1 as purch\nFROM \n    retailPurchases \ngroup \n    by custId, stockCode\"\"\"\nretailDf = sqlContext.sql(query)\nretailDf.registerTempTable(\"retailDf\")\n\nsqlContext.sql(\"select * from retailDf limit 10\").toPandas()\n\n# removing unneeded columns", 
            "outputs": [
                {
                    "execution_count": 13, 
                    "data": {
                        "text/plain": "   custId  stockCode  purch\n0   18074      22224      1\n1   13705      21889      1\n2   15862      22441      1\n3   15862      21592      1\n4   12838      22739      1\n5   12838      22149      1\n6   14078      22548      1\n7   14078      22423      1\n8   12433      21977      1\n9   14696      84360      1", 
                        "text/html": "<div>\n<table border=\"1\" class=\"dataframe\">\n  <thead>\n    <tr style=\"text-align: right;\">\n      <th></th>\n      <th>custId</th>\n      <th>stockCode</th>\n      <th>purch</th>\n    </tr>\n  </thead>\n  <tbody>\n    <tr>\n      <th>0</th>\n      <td>18074</td>\n      <td>22224</td>\n      <td>1</td>\n    </tr>\n    <tr>\n      <th>1</th>\n      <td>13705</td>\n      <td>21889</td>\n      <td>1</td>\n    </tr>\n    <tr>\n      <th>2</th>\n      <td>15862</td>\n      <td>22441</td>\n      <td>1</td>\n    </tr>\n    <tr>\n      <th>3</th>\n      <td>15862</td>\n      <td>21592</td>\n      <td>1</td>\n    </tr>\n    <tr>\n      <th>4</th>\n      <td>12838</td>\n      <td>22739</td>\n      <td>1</td>\n    </tr>\n    <tr>\n      <th>5</th>\n      <td>12838</td>\n      <td>22149</td>\n      <td>1</td>\n    </tr>\n    <tr>\n      <th>6</th>\n      <td>14078</td>\n      <td>22548</td>\n      <td>1</td>\n    </tr>\n    <tr>\n      <th>7</th>\n      <td>14078</td>\n      <td>22423</td>\n      <td>1</td>\n    </tr>\n    <tr>\n      <th>8</th>\n      <td>12433</td>\n      <td>21977</td>\n      <td>1</td>\n    </tr>\n    <tr>\n      <th>9</th>\n      <td>14696</td>\n      <td>84360</td>\n      <td>1</td>\n    </tr>\n  </tbody>\n</table>\n</div>"
                    }, 
                    "metadata": {}, 
                    "output_type": "execute_result"
                }
            ], 
            "cell_type": "code"
        }, 
        {
            "execution_count": 15, 
            "metadata": {}, 
            "source": "# Splitting the date into training/ crossvalidation/ testing set .8,.1,.1\n\ntestDf, cvDf, trainDf = retailDf.randomSplit([.1,.1,.8],1)\n\nprint (\"trainDf count: \", trainDf.count(), \" example: \")\nfor row in trainDf.take(2): print (row)\nprint\n\nprint (\"cvDf count: \", cvDf.count(), \" example: \")\nfor row in cvDf.take(2): print (row)\nprint\n\nprint (\"testDf count: \", testDf.count(), \" example: \")\nfor row in testDf.take(2): print (row)\nprint", 
            "outputs": [
                {
                    "name": "stdout", 
                    "output_type": "stream", 
                    "text": "trainDf count:  208123  example: \nRow(custId=12359, stockCode=23345, purch=1)\nRow(custId=12363, stockCode=20685, purch=1)\ncvDf count:  25876  example: \nRow(custId=12349, stockCode=23545, purch=1)\nRow(custId=12388, stockCode=22960, purch=1)\ntestDf count:  26113  example: \nRow(custId=12362, stockCode=22372, purch=1)\nRow(custId=12391, stockCode=20985, purch=1)\n"
                }, 
                {
                    "execution_count": 15, 
                    "data": {
                        "text/plain": "<function print>"
                    }, 
                    "metadata": {}, 
                    "output_type": "execute_result"
                }
            ], 
            "cell_type": "code"
        }, 
        {
            "source": "### building recommendation models...\nStandard parameters specify data and options. Hyperparameters control the performance of the algorithm.\nFor ALS algo\nHyperparams are:\nThe rank represents the number of features. The default value of rank is 10.\nThe maxIter represents the number of iterations to run the least squares computation. The default value of maxIter is 10.", 
            "metadata": {}, 
            "cell_type": "markdown"
        }, 
        {
            "source": "    Use the training DataFrame to train three models with the ALS algorithm with different values for the rank and maxIter hyperparameters.\n    Assign the userCol, itemCol, and ratingCol parameters to the appropriate data columns. \n    Set the implicitPrefs parameter to true so that the algorithm can predict latent factors.", 
            "metadata": {}, 
            "cell_type": "markdown"
        }, 
        {
            "execution_count": 17, 
            "metadata": {}, 
            "source": "\nfrom pyspark.ml.recommendation import ALS\n\nals1 = ALS(rank=3, maxIter=15,userCol=\"custId\",itemCol=\"stockCode\",ratingCol=\"purch\",implicitPrefs=True)\nmodel1 = als1.fit(trainDf)\n\nals2 = ALS(rank=15, maxIter=3,userCol=\"custId\",itemCol=\"stockCode\",ratingCol=\"purch\",implicitPrefs=True)\nmodel2 = als2.fit(trainDf)\n\nals3 = ALS(rank=15, maxIter=15,userCol=\"custId\",itemCol=\"stockCode\",ratingCol=\"purch\",implicitPrefs=True)\nmodel3 = als3.fit(trainDf)\n\nprint (\"The models are trained\")", 
            "outputs": [
                {
                    "name": "stdout", 
                    "output_type": "stream", 
                    "text": "The models are trained\n"
                }
            ], 
            "cell_type": "code"
        }, 
        {
            "source": "### Testing the models..\n\nTest the models with the cross validation set and then with the testing data.. \nyou know that th emodel is good if the prediction value for the products that the customers already brought is close to 1\n", 
            "metadata": {}, 
            "cell_type": "markdown"
        }, 
        {
            "execution_count": 19, 
            "metadata": {}, 
            "source": "#Cleaing the CV DS\n\nfrom pyspark.sql.functions import UserDefinedFunction\n#not sure where the user defined fn is being used.\nfrom pyspark.sql.types import BooleanType\ncustomers = set(trainDf.rdd.map(lambda line: line.custId).collect())\nstock = set(trainDf.rdd.map(lambda line: line.stockCode).collect())\n\nprint (cvDf.count())\ncvDf = cvDf.rdd.filter(lambda line: line.stockCode in stock and line.custId in customers).toDF()\nprint (cvDf.count())", 
            "outputs": [
                {
                    "name": "stdout", 
                    "output_type": "stream", 
                    "text": "25876\n25846\n"
                }
            ], 
            "cell_type": "code"
        }, 
        {
            "execution_count": 21, 
            "metadata": {}, 
            "source": "predictions1 = model1.transform(cvDf)\npredictions2 = model2.transform(cvDf)\npredictions3 = model3.transform(cvDf)\n# the 3 models were set up with different Hyper parameters as defined above...\nprint( predictions1.take(2))\nprint (predictions2.take(2))\nprint (predictions3.take(2))", 
            "outputs": [
                {
                    "name": "stdout", 
                    "output_type": "stream", 
                    "text": "[Row(custId=16669, stockCode=20735, purch=1, prediction=0.00905850064009428), Row(custId=14606, stockCode=20735, purch=1, prediction=0.03682738170027733)]\n[Row(custId=16669, stockCode=20735, purch=1, prediction=0.0033240753691643476), Row(custId=14606, stockCode=20735, purch=1, prediction=0.04877405986189842)]\n[Row(custId=14606, stockCode=20735, purch=1, prediction=0.09258811920881271), Row(custId=16669, stockCode=20735, purch=1, prediction=0.007210470270365477)]\n"
                }
            ], 
            "cell_type": "code"
        }, 
        {
            "execution_count": 23, 
            "metadata": {}, 
            "source": "meanSquaredError1 = predictions1.rdd.map(lambda line: (line.purch - line.prediction)**2).mean()\nmeanSquaredError2 = predictions2.rdd.map(lambda line: (line.purch - line.prediction)**2).mean()\nmeanSquaredError3 = predictions3.rdd.map(lambda line: (line.purch - line.prediction)**2).mean()\n    \nprint ('Mean squared error = %.4f for our first model' % meanSquaredError1)\nprint ('Mean squared error = %.4f for our second model' % meanSquaredError2)\nprint ('Mean squared error = %.4f for our third model' % meanSquaredError3)", 
            "outputs": [
                {
                    "name": "stdout", 
                    "output_type": "stream", 
                    "text": "Mean squared error = 0.7387 for our first model\nMean squared error = 0.6986 for our second model\nMean squared error = 0.6686 for our third model\n"
                }
            ], 
            "cell_type": "code"
        }, 
        {
            "execution_count": 24, 
            "metadata": {}, 
            "source": "filteredTestDf = testDf.rdd.filter(lambda line: line.stockCode in stock and line.custId in customers).toDF()\npredictions4 = model3.transform(filteredTestDf)\nmeanSquaredError4 = predictions4.rdd.map(lambda line: (line.purch - line.prediction)**2).mean()\n    #\nprint ('Mean squared error = %.4f for our best model' % meanSquaredError4)", 
            "outputs": [
                {
                    "name": "stdout", 
                    "output_type": "stream", 
                    "text": "Mean squared error = 0.6693 for our best model\n"
                }
            ], 
            "cell_type": "code"
        }, 
        {
            "execution_count": 25, 
            "metadata": {}, 
            "source": "filteredTestDf.take(3)", 
            "outputs": [
                {
                    "execution_count": 25, 
                    "data": {
                        "text/plain": "[Row(custId=12362, stockCode=22372, purch=1),\n Row(custId=12391, stockCode=20985, purch=1),\n Row(custId=12424, stockCode=23034, purch=1)]"
                    }, 
                    "metadata": {}, 
                    "output_type": "execute_result"
                }
            ], 
            "cell_type": "code"
        }, 
        {
            "execution_count": 28, 
            "metadata": {}, 
            "source": "filteredTestDf.count()\n", 
            "outputs": [
                {
                    "execution_count": 28, 
                    "data": {
                        "text/plain": "26085"
                    }, 
                    "metadata": {}, 
                    "output_type": "execute_result"
                }
            ], 
            "cell_type": "code"
        }, 
        {
            "execution_count": null, 
            "metadata": {}, 
            "source": "# THe MSE of the model.. when run on the filteredTestDf.. is close to the MSE on the model3 => predictions3 result..", 
            "outputs": [], 
            "cell_type": "code"
        }, 
        {
            "source": "## implementing the model model3 \n### to predict which product a specific customer might be pruchasing..", 
            "metadata": {}, 
            "cell_type": "markdown"
        }, 
        {
            "execution_count": 29, 
            "metadata": {}, 
            "source": "from pyspark.sql.functions import lit\n\nstock15544 = set(trainDf.filter(trainDf['custId'] == 15544).rdd.map(lambda line: line.stockCode).collect())\n## could have been any customer\n# check agains what the map was supposed to do...\nuserItems = trainDf.select(\"stockCode\").distinct().withColumn('custId', lit(15544)).rdd.filter(lambda line: line.stockCode not in stock15544).toDF()\n\nfor row in userItems.take(5):\n    print (row.stockCode, row.custId)", 
            "outputs": [
                {
                    "name": "stdout", 
                    "output_type": "stream", 
                    "text": "21899 15544\n22429 15544\n22201 15544\n22165 15544\n21209 15544\n"
                }
            ], 
            "cell_type": "code"
        }, 
        {
            "execution_count": 32, 
            "metadata": {}, 
            "source": "#Run the transform function to create a prediction value for each product:\n\nuserItems = model3.transform(userItems)\n\nfor row in userItems.take(5):\n    print (row.stockCode, row.custId, row.prediction)", 
            "outputs": [
                {
                    "name": "stdout", 
                    "output_type": "stream", 
                    "text": "20735 15544 0.006818763911724091\n21220 15544 0.05893325060606003\n21700 15544 0.0666210949420929\n22097 15544 -0.06284123659133911\n22223 15544 0.016460057348012924\n"
                }
            ], 
            "cell_type": "code"
        }, 
        {
            "execution_count": 33, 
            "metadata": {}, 
            "source": "# funny how a prediction is negative... :D", 
            "outputs": [], 
            "cell_type": "code"
        }, 
        {
            "execution_count": 34, 
            "metadata": {}, 
            "source": "# top 5\nuserItems.registerTempTable(\"predictions\")\nquery = \"select * from predictions order by prediction desc limit 5\"\n\nsqlContext.sql(query).toPandas()", 
            "outputs": [
                {
                    "execution_count": 34, 
                    "data": {
                        "text/plain": "   stockCode  custId  prediction\n0      21242   15544    0.561971\n1      22090   15544    0.549427\n2      22326   15544    0.506005\n3      21987   15544    0.497307\n4      22417   15544    0.472694", 
                        "text/html": "<div>\n<table border=\"1\" class=\"dataframe\">\n  <thead>\n    <tr style=\"text-align: right;\">\n      <th></th>\n      <th>stockCode</th>\n      <th>custId</th>\n      <th>prediction</th>\n    </tr>\n  </thead>\n  <tbody>\n    <tr>\n      <th>0</th>\n      <td>21242</td>\n      <td>15544</td>\n      <td>0.561971</td>\n    </tr>\n    <tr>\n      <th>1</th>\n      <td>22090</td>\n      <td>15544</td>\n      <td>0.549427</td>\n    </tr>\n    <tr>\n      <th>2</th>\n      <td>22326</td>\n      <td>15544</td>\n      <td>0.506005</td>\n    </tr>\n    <tr>\n      <th>3</th>\n      <td>21987</td>\n      <td>15544</td>\n      <td>0.497307</td>\n    </tr>\n    <tr>\n      <th>4</th>\n      <td>22417</td>\n      <td>15544</td>\n      <td>0.472694</td>\n    </tr>\n  </tbody>\n</table>\n</div>"
                    }, 
                    "metadata": {}, 
                    "output_type": "execute_result"
                }
            ], 
            "cell_type": "code"
        }, 
        {
            "execution_count": 35, 
            "metadata": {}, 
            "source": "stockItems = sqlContext.sql(\"select distinct stockCode, description from retailPurchases\")\nstockItems.registerTempTable(\"stockItems\")\n\nquery = \"\"\"\nselect \n    predictions.*,\n    stockItems.description\nfrom\n    predictions\ninner join stockItems on\n    predictions.stockCode = stockItems.stockCode\norder by predictions.prediction desc\nlimit 10\n\"\"\"\nsqlContext.sql(query).toPandas()", 
            "outputs": [
                {
                    "execution_count": 35, 
                    "data": {
                        "text/plain": "   stockCode  custId  prediction                          description\n0      21242   15544    0.561971                 RED RETROSPOT PLATE \n1      22090   15544    0.549427              PAPER BUNTING RETROSPOT\n2      22326   15544    0.506005  ROUND SNACK BOXES SET OF4 WOODLAND \n3      21987   15544    0.497307           PACK OF 6 SKULL PAPER CUPS\n4      22417   15544    0.472694       PACK OF 60 SPACEBOY CAKE CASES\n5      47590   15544    0.472635          PINK HAPPY BIRTHDAY BUNTING\n6      47590   15544    0.472635          BLUE HAPPY BIRTHDAY BUNTING\n7      21559   15544    0.470797    STRAWBERRY LUNCH BOX WITH CUTLERY\n8      22367   15544    0.468015      CHILDRENS APRON SPACEBOY DESIGN\n9      21122   15544    0.464589   SET/10 PINK POLKADOT PARTY CANDLES", 
                        "text/html": "<div>\n<table border=\"1\" class=\"dataframe\">\n  <thead>\n    <tr style=\"text-align: right;\">\n      <th></th>\n      <th>stockCode</th>\n      <th>custId</th>\n      <th>prediction</th>\n      <th>description</th>\n    </tr>\n  </thead>\n  <tbody>\n    <tr>\n      <th>0</th>\n      <td>21242</td>\n      <td>15544</td>\n      <td>0.561971</td>\n      <td>RED RETROSPOT PLATE</td>\n    </tr>\n    <tr>\n      <th>1</th>\n      <td>22090</td>\n      <td>15544</td>\n      <td>0.549427</td>\n      <td>PAPER BUNTING RETROSPOT</td>\n    </tr>\n    <tr>\n      <th>2</th>\n      <td>22326</td>\n      <td>15544</td>\n      <td>0.506005</td>\n      <td>ROUND SNACK BOXES SET OF4 WOODLAND</td>\n    </tr>\n    <tr>\n      <th>3</th>\n      <td>21987</td>\n      <td>15544</td>\n      <td>0.497307</td>\n      <td>PACK OF 6 SKULL PAPER CUPS</td>\n    </tr>\n    <tr>\n      <th>4</th>\n      <td>22417</td>\n      <td>15544</td>\n      <td>0.472694</td>\n      <td>PACK OF 60 SPACEBOY CAKE CASES</td>\n    </tr>\n    <tr>\n      <th>5</th>\n      <td>47590</td>\n      <td>15544</td>\n      <td>0.472635</td>\n      <td>PINK HAPPY BIRTHDAY BUNTING</td>\n    </tr>\n    <tr>\n      <th>6</th>\n      <td>47590</td>\n      <td>15544</td>\n      <td>0.472635</td>\n      <td>BLUE HAPPY BIRTHDAY BUNTING</td>\n    </tr>\n    <tr>\n      <th>7</th>\n      <td>21559</td>\n      <td>15544</td>\n      <td>0.470797</td>\n      <td>STRAWBERRY LUNCH BOX WITH CUTLERY</td>\n    </tr>\n    <tr>\n      <th>8</th>\n      <td>22367</td>\n      <td>15544</td>\n      <td>0.468015</td>\n      <td>CHILDRENS APRON SPACEBOY DESIGN</td>\n    </tr>\n    <tr>\n      <th>9</th>\n      <td>21122</td>\n      <td>15544</td>\n      <td>0.464589</td>\n      <td>SET/10 PINK POLKADOT PARTY CANDLES</td>\n    </tr>\n  </tbody>\n</table>\n</div>"
                    }, 
                    "metadata": {}, 
                    "output_type": "execute_result"
                }
            ], 
            "cell_type": "code"
        }, 
        {
            "execution_count": null, 
            "metadata": {}, 
            "source": "# the resutls match for this sample.. this data set..\n# match as in the predicted vs actual.. match", 
            "outputs": [], 
            "cell_type": "code"
        }, 
        {
            "execution_count": null, 
            "metadata": {}, 
            "source": "", 
            "outputs": [], 
            "cell_type": "code"
        }, 
        {
            "execution_count": null, 
            "metadata": {}, 
            "source": "", 
            "outputs": [], 
            "cell_type": "code"
        }, 
        {
            "execution_count": null, 
            "metadata": {}, 
            "source": "", 
            "outputs": [], 
            "cell_type": "code"
        }
    ], 
    "nbformat_minor": 1
}